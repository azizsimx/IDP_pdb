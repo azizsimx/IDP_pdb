{
 "cells": [
  {
   "cell_type": "markdown",
   "metadata": {},
   "source": [
    "## # Load the PDB file\n",
    "load 1IYT.pdb\n",
    "\n",
    "# Extract residues 16–22 from Chain A (assuming Chain A is Aβ)\n",
    "remove not (resi 16-22 and chain A)\n",
    "\n",
    "# Save the fragment\n",
    "save ab16-22.pdb"
   ]
  },
  {
   "cell_type": "code",
   "execution_count": null,
   "metadata": {},
   "outputs": [],
   "source": []
  },
  {
   "cell_type": "code",
   "execution_count": 1,
   "metadata": {},
   "outputs": [],
   "source": [
    "import MDAnalysis as mda\n",
    "\n",
    "# Load the PDB file\n",
    "u = mda.Universe(\"1IYT.pdb\")\n",
    "\n",
    "# Select residues 16 to 22 (Aβ(16–22) fragment)\n",
    "fragment = u.select_atoms(\"resid 16:22\")\n"
   ]
  },
  {
   "cell_type": "code",
   "execution_count": 2,
   "metadata": {},
   "outputs": [
    {
     "name": "stderr",
     "output_type": "stream",
     "text": [
      "/opt/anaconda3/lib/python3.12/site-packages/MDAnalysis/coordinates/PDB.py:777: UserWarning: Unit cell dimensions not found. CRYST1 record set to unitary values.\n",
      "  warnings.warn(\"Unit cell dimensions not found. \"\n",
      "/opt/anaconda3/lib/python3.12/site-packages/MDAnalysis/coordinates/PDB.py:1154: UserWarning: Found no information for attr: 'formalcharges' Using default value of '0'\n",
      "  warnings.warn(\"Found no information for attr: '{}'\"\n"
     ]
    }
   ],
   "source": [
    "# Write the fragment to a new PDB file\n",
    "with mda.Writer(\"Abeta_16_22.pdb\", fragment.n_atoms) as w:\n",
    "    w.write(fragment)\n"
   ]
  },
  {
   "cell_type": "code",
   "execution_count": 3,
   "metadata": {},
   "outputs": [],
   "source": [
    "from Bio import PDB\n",
    "\n",
    "# Define residue range (Aβ16-22 corresponds to residues 16–22 in 1IYT)\n",
    "start_res = 16\n",
    "end_res = 22\n",
    "\n",
    "# Parse the PDB file\n",
    "parser = PDB.PDBParser()\n",
    "structure = parser.get_structure(\"Aβ42\", \"1IYT.pdb\")\n",
    "\n",
    "# Extract residues 16–22 from Chain A (only chain in 1IYT)\n",
    "class ResidueSelector(PDB.Select):\n",
    "    def accept_residue(self, residue):\n",
    "        return (residue.id[1] >= start_res) and (residue.id[1] <= end_res)\n",
    "\n",
    "# Save the fragment\n",
    "io = PDB.PDBIO()\n",
    "io.set_structure(structure)\n",
    "io.save(\"Aβ16-22.pdb\", select=ResidueSelector())\n"
   ]
  },
  {
   "cell_type": "code",
   "execution_count": 4,
   "metadata": {},
   "outputs": [
    {
     "name": "stderr",
     "output_type": "stream",
     "text": [
      "/opt/anaconda3/lib/python3.12/site-packages/MDAnalysis/coordinates/PDB.py:777: UserWarning: Unit cell dimensions not found. CRYST1 record set to unitary values.\n",
      "  warnings.warn(\"Unit cell dimensions not found. \"\n",
      "/opt/anaconda3/lib/python3.12/site-packages/MDAnalysis/coordinates/PDB.py:1154: UserWarning: Found no information for attr: 'formalcharges' Using default value of '0'\n",
      "  warnings.warn(\"Found no information for attr: '{}'\"\n"
     ]
    }
   ],
   "source": [
    "import MDAnalysis as mda\n",
    "\n",
    "# Load full-length IAPP structure\n",
    "u = mda.Universe(\"2L86.pdb\")\n",
    "\n",
    "# Select residues 20 to 29\n",
    "fragment = u.select_atoms('resid 20-29')\n",
    "\n",
    "# Write to a new PDB file\n",
    "fragment.write(\"IAPP_20-29_temp.pdb\")\n"
   ]
  },
  {
   "cell_type": "code",
   "execution_count": 5,
   "metadata": {},
   "outputs": [
    {
     "name": "stderr",
     "output_type": "stream",
     "text": [
      "/opt/anaconda3/lib/python3.12/site-packages/MDAnalysis/coordinates/PDB.py:453: UserWarning: 1 A^3 CRYST1 record, this is usually a placeholder. Unit cell dimensions will be set to None.\n",
      "  warnings.warn(\"1 A^3 CRYST1 record,\"\n"
     ]
    }
   ],
   "source": [
    "import MDAnalysis as mda\n",
    "\n",
    "# Load full-length alpha-synuclein structure\n",
    "u = mda.Universe(\"2N0A.pdb\")\n",
    "\n",
    "# Select residues 1 to 60 (N-terminal domain)\n",
    "nterm = u.select_atoms('resid 1-60')\n",
    "\n",
    "# Write to a new PDB file\n",
    "nterm.write(\"aSyn_Nterm.pdb\")\n"
   ]
  },
  {
   "cell_type": "code",
   "execution_count": 6,
   "metadata": {},
   "outputs": [],
   "source": [
    "import MDAnalysis as mda\n",
    "\n",
    "# Load the structure\n",
    "u = mda.Universe(\"7LC9.pdb\")\n",
    "\n",
    "# Select one monomer (e.g., chain A)\n",
    "monomer = u.select_atoms('chainID A')\n",
    "\n",
    "# Write the monomer to a new PDB file\n",
    "monomer.write(\"aSyn_monomer.pdb\")\n"
   ]
  },
  {
   "cell_type": "code",
   "execution_count": null,
   "metadata": {},
   "outputs": [],
   "source": []
  }
 ],
 "metadata": {
  "kernelspec": {
   "display_name": "base",
   "language": "python",
   "name": "python3"
  },
  "language_info": {
   "codemirror_mode": {
    "name": "ipython",
    "version": 3
   },
   "file_extension": ".py",
   "mimetype": "text/x-python",
   "name": "python",
   "nbconvert_exporter": "python",
   "pygments_lexer": "ipython3",
   "version": "3.12.3"
  }
 },
 "nbformat": 4,
 "nbformat_minor": 2
}
